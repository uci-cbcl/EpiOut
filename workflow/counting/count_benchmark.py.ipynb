{
 "cells": [
  {
   "cell_type": "code",
   "execution_count": null,
   "id": "320927cc",
   "metadata": {},
   "outputs": [],
   "source": [
    "import numpy as np\n",
    "import pandas as pd\n",
    "import matplotlib.pyplot as plt\n",
    "import seaborn as sns"
   ]
  },
  {
   "cell_type": "code",
   "execution_count": null,
   "id": "8bc884e4",
   "metadata": {},
   "outputs": [],
   "source": [
    "! cat {snakemake.input['bed']} | wc -l"
   ]
  },
  {
   "cell_type": "code",
   "execution_count": null,
   "id": "0911fa3e",
   "metadata": {},
   "outputs": [],
   "source": [
    "num_reads = pd.Series([\n",
    "    int(next(open(i)))\n",
    "    for i in snakemake.input['read_count']\n",
    "])\n",
    "num_reads.mean(), num_reads.std()"
   ]
  },
  {
   "cell_type": "code",
   "execution_count": null,
   "id": "616763d8",
   "metadata": {},
   "outputs": [],
   "source": [
    "df_epicount = pd.concat([\n",
    "    pd.read_csv(i, sep='\\t')\n",
    "    for i in snakemake.input['epicount']\n",
    "])\n",
    "df_epicount['method'] = 'EpiCount'\n",
    "\n",
    "df_pyranges = pd.concat([\n",
    "    pd.read_csv(i, sep='\\t')\n",
    "    for i in snakemake.input['pyranges']\n",
    "])\n",
    "df_pyranges['method'] = 'PyRanges'\n",
    "\n",
    "df_bedtools = pd.concat([\n",
    "    pd.read_csv(i, sep='\\t')\n",
    "    for i in snakemake.input['bedtools']\n",
    "])\n",
    "df_bedtools['method'] = 'bedtools'\n",
    "\n",
    "df_epicount['max_rss_gb'] = df_epicount['max_rss'] / 1000\n",
    "df_pyranges['max_rss_gb'] = df_pyranges['max_rss'] / 1000\n",
    "df_bedtools['max_rss_gb'] = df_bedtools['max_rss'] / 1000\n",
    "\n",
    "df = pd.concat([\n",
    "    df_epicount.reset_index(drop=True),\n",
    "    df_pyranges.reset_index(drop=True),\n",
    "    df_bedtools.reset_index(drop=True)\n",
    "]).reset_index()"
   ]
  },
  {
   "cell_type": "code",
   "execution_count": null,
   "id": "86f0495a",
   "metadata": {},
   "outputs": [],
   "source": [
    "cpu_per_1m = (df_pyranges['cpu_time'].values / (num_reads.values / 1_000_000))\n",
    "\n",
    "cpu_per_1m.mean(), cpu_per_1m.std()"
   ]
  },
  {
   "cell_type": "code",
   "execution_count": null,
   "id": "e7b3783e",
   "metadata": {},
   "outputs": [],
   "source": [
    "cpu_per_1m = (df_epicount['cpu_time'].values / (num_reads.values / 1_000_000))\n",
    "\n",
    "cpu_per_1m.mean(), cpu_per_1m.std()"
   ]
  },
  {
   "cell_type": "code",
   "execution_count": null,
   "id": "a541bd8d",
   "metadata": {},
   "outputs": [],
   "source": [
    "cpu_per_1m = (df_bedtools['cpu_time'].values / (num_reads.values / 1_000_000))\n",
    "\n",
    "cpu_per_1m.mean(), cpu_per_1m.std()"
   ]
  },
  {
   "cell_type": "code",
   "execution_count": null,
   "id": "aee28881",
   "metadata": {},
   "outputs": [],
   "source": [
    "df_epicount['cpu_time'].mean(), df_epicount['cpu_time'].std()"
   ]
  },
  {
   "cell_type": "code",
   "execution_count": null,
   "id": "dbfd87a9",
   "metadata": {},
   "outputs": [],
   "source": [
    "df_pyranges['cpu_time'].mean(), df_pyranges['cpu_time'].std()"
   ]
  },
  {
   "cell_type": "code",
   "execution_count": null,
   "id": "26241455",
   "metadata": {},
   "outputs": [],
   "source": [
    "df_bedtools['cpu_time'].mean(), df_bedtools['cpu_time'].std()"
   ]
  },
  {
   "cell_type": "code",
   "execution_count": null,
   "id": "b1695aab",
   "metadata": {},
   "outputs": [],
   "source": [
    "plt.figure(figsize=(3, 3))\n",
    "\n",
    "sns.boxplot(data=df, x='method', y='cpu_time')\n",
    "sns.swarmplot(data=df, x='method', y='cpu_time', color='black')\n",
    "#dd sns.lineplot(data=df, x='method', y='cpu_time', color='black', hue='index', # palette=['black'],\n",
    "#              alpha=0.5, legend=False)\n",
    "plt.xlabel('')\n",
    "plt.ylabel('CPU time (seconds)')\n",
    "sns.despine()\n",
    "\n",
    "plt.savefig(snakemake.output['fig_cpu'], dpi=300, bbox_inches='tight')"
   ]
  },
  {
   "cell_type": "code",
   "execution_count": null,
   "id": "2d039e6f",
   "metadata": {},
   "outputs": [],
   "source": [
    "ratio = df_epicount['max_rss'] / df_pyranges['max_rss']\n",
    "\n",
    "ratio.mean(), ratio.std()"
   ]
  },
  {
   "cell_type": "code",
   "execution_count": null,
   "id": "95bfbe84",
   "metadata": {},
   "outputs": [],
   "source": [
    "df_epicount['max_rss_gb'].mean(), df_epicount['max_rss_gb'].std()"
   ]
  },
  {
   "cell_type": "code",
   "execution_count": null,
   "id": "adfb07d1",
   "metadata": {},
   "outputs": [],
   "source": [
    "df_pyranges['max_rss_gb'].mean(), df_pyranges['max_rss_gb'].std()"
   ]
  },
  {
   "cell_type": "code",
   "execution_count": null,
   "id": "424f8d3e",
   "metadata": {},
   "outputs": [],
   "source": [
    "df_bedtools['max_rss_gb'].mean(), df_bedtools['max_rss_gb'].std()"
   ]
  },
  {
   "cell_type": "code",
   "execution_count": null,
   "id": "130602f0",
   "metadata": {},
   "outputs": [],
   "source": [
    "plt.figure(figsize=(3, 3))\n",
    "\n",
    "sns.boxplot(data=df, x='method', y='max_rss_gb')\n",
    "sns.swarmplot(data=df, x='method', y='max_rss_gb', color='black')\n",
    "plt.yscale('log')\n",
    "plt.xlabel('')\n",
    "plt.ylabel('Memory Usage (GB)')\n",
    "sns.despine()\n",
    "\n",
    "plt.savefig(snakemake.output['fig_mem'], dpi=300, bbox_inches='tight')"
   ]
  }
 ],
 "metadata": {
  "kernelspec": {
   "display_name": "Python 3 (ipykernel)",
   "language": "python",
   "name": "python3"
  },
  "language_info": {
   "codemirror_mode": {
    "name": "ipython",
    "version": 3
   },
   "file_extension": ".py",
   "mimetype": "text/x-python",
   "name": "python",
   "nbconvert_exporter": "python",
   "pygments_lexer": "ipython3",
   "version": "3.8.17"
  }
 },
 "nbformat": 4,
 "nbformat_minor": 5
}
